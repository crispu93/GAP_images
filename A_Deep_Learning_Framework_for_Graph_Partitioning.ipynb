{
  "nbformat": 4,
  "nbformat_minor": 0,
  "metadata": {
    "colab": {
      "name": "A Deep Learning Framework for Graph Partitioning.ipynb",
      "provenance": [],
      "collapsed_sections": [],
      "authorship_tag": "ABX9TyOi0B4CIQACdbn2N9HOjjRx",
      "include_colab_link": true
    },
    "kernelspec": {
      "name": "python3",
      "display_name": "Python 3"
    },
    "language_info": {
      "name": "python"
    }
  },
  "cells": [
    {
      "cell_type": "markdown",
      "metadata": {
        "id": "view-in-github",
        "colab_type": "text"
      },
      "source": [
        "<a href=\"https://colab.research.google.com/github/crispu93/GAP_images/blob/main/A_Deep_Learning_Framework_for_Graph_Partitioning.ipynb\" target=\"_parent\"><img src=\"https://colab.research.google.com/assets/colab-badge.svg\" alt=\"Open In Colab\"/></a>"
      ]
    },
    {
      "cell_type": "markdown",
      "metadata": {
        "id": "Ercv8r5zlaM0"
      },
      "source": [
        "# A Deep Learning Framework for Graph Partitioning"
      ]
    },
    {
      "cell_type": "markdown",
      "metadata": {
        "id": "WVipXsSubPRV"
      },
      "source": [
        "# Introduction"
      ]
    },
    {
      "cell_type": "markdown",
      "metadata": {
        "id": "YwXvaOrxcQRS"
      },
      "source": [
        "- Graph partitioning is an important optimization problem with numerous applications in domains spanning computer vision, biology, social networks, transportation networks, device placement and more. \n",
        "- The objective is to find balanced partitions while minimizing the number of edge cut.\n",
        "- This problem is NP-complete, which is formulated as adiscrete optimization problem, and solutions are generally derived using heuristics and approximationalgorithms"
      ]
    },
    {
      "cell_type": "markdown",
      "metadata": {
        "id": "I0p-73fVbWHW"
      },
      "source": [
        "## Basics of Graphs\n",
        "\n",
        "\n",
        "\n"
      ]
    },
    {
      "cell_type": "markdown",
      "metadata": {
        "id": "RuCj2HTPbuOH"
      },
      "source": [
        "Let $G=(V,E)$ be an undirected graph, where $V=\\{v_1, v_2, ... , v_n\\}$ is the non-empty set of nodes (or vertices) and $E$ is the set of edges, composed by pairs of the form $(v_i, v_j)$, where $v_i, v_j \\in V$. \n",
        "\n",
        "We denote the **adjacency matrix** of the graph $G$ by the matrix $A = [a_{ij}]_{n\\times n}$ where\n",
        "$$\n",
        "a_{ij} = \\begin{cases} \n",
        "      1 & \\text{ if } (v_i, v_j)\\in E\\\\\n",
        "      0 & \\text{ otherwise }\n",
        "   \\end{cases}\n",
        "   $$\n",
        "\n",
        "and the **degree matrix** $D = [d_{ij}]_{n\\times n}$ where\n",
        "$$\n",
        "d_{ij} = \\begin{cases} \n",
        "      deg(v_i) & \\text{ if } i = j\\\\\n",
        "      0 & \\text{ otherwise }\n",
        "   \\end{cases}\n",
        "   $$"
      ]
    },
    {
      "cell_type": "markdown",
      "metadata": {
        "id": "HtoorHbzgl8q"
      },
      "source": [
        "## The Graph Patitioning Problem"
      ]
    },
    {
      "cell_type": "markdown",
      "metadata": {
        "id": "JNfrinK4g42v"
      },
      "source": [
        "Given a graph $G$ and an integer $k$ the goal is to find a partition of $V$ into $k$ subsets $P_1, P_2, ... , P_k$, that is \n",
        "- $P_i\\cap P_j = \\emptyset \\ \\ \\ $  for $i\\neq j$, where $i,j\\in\\{1,2,...,k\\}$\n",
        "- $\\cup_{i=1}^k P_k = V$\n",
        "\n",
        "<!-- In the balanced graph partitioning problem, we also require the size of each component $P_i$ is equal to $\\frac{n}{k}$. This is a more restricted problem so we relax it by setting up the restriction\n",
        "$$\n",
        "\\max_i \\vert P_i \\vert \\leq (1+\\epsilon)\\frac{n}{k}\n",
        "$$ -->\n",
        "In the balanced graph partitioning problem, we also require each partition $P_i$ is balanced with respect to some measure.\n",
        "\n",
        "One way to get this, is to minimize the normalized cut ($\\textbf{Ncut}$) which is based on graph conductance where the cost of a cut is computed as a fraction of the total edge connections to all nodes."
      ]
    },
    {
      "cell_type": "markdown",
      "metadata": {
        "id": "tBQSzSUIn-y8"
      },
      "source": [
        "$$\n",
        "\\textbf{Ncut}(P_1, P_2, ..., P_k) = \\sum_{i=1}^k \\frac{\\textbf{cut}(P_i, \\overline{P_i})}{\\textbf{vol}(P_i)}\n",
        "$$\n",
        "\n",
        "Where $\\textbf{vol}(P_i) = \\sum_{v_j\\in P_i}deg(v_j)$"
      ]
    },
    {
      "cell_type": "markdown",
      "metadata": {
        "id": "0f3QR9Fzo0us"
      },
      "source": [
        "![cut of a graph](https://user-images.githubusercontent.com/1902679/34037816-738cf4ba-e18a-11e7-9343-7c27209b27e6.png)"
      ]
    },
    {
      "cell_type": "markdown",
      "metadata": {
        "id": "SfdoL9YWhZLy"
      },
      "source": [
        "# Generalizable Approximate Partitioning"
      ]
    },
    {
      "cell_type": "markdown",
      "metadata": {
        "id": "aefHz_sTQXN3"
      },
      "source": [
        "One way to minimize the normalized cut is based on the eigenvectors of the graph Laplacian. In the work of Nazi et. al. it is introduced the *Generalizable Approximate Partitioning framework*(GAP).\n",
        "\n",
        "As shown in the image below, GAP has two main components:\n",
        "1. Graph embedding module\n",
        "2. Graph partitioning module\n",
        "\n",
        "The GAP model ingests a graph definition, generates a node embeddings that leverage local graph structure, and projects each embedding into logits(number between 0 and 1) that define a probability distribution to minimize the expected normalized cut.\n",
        "\n"
      ]
    },
    {
      "cell_type": "markdown",
      "metadata": {
        "id": "uEbqmb5NSE8T"
      },
      "source": [
        "![gap framework](https://raw.githubusercontent.com/crispu93/GAP_images/main/GAP.png)"
      ]
    },
    {
      "cell_type": "markdown",
      "metadata": {
        "id": "UlI2YO55Yd7A"
      },
      "source": [
        "The purpose of the graph embedding module is to learn node embeddings using the graph structure and node features. In this work we use Graph Convolutional Netwroks (GCN) to learn representations accross a variety of graphs, which helps with generalization.\n",
        "\n",
        "The second module in the GAP framework is responsible for partitioning the graph taking in node embeddings and generating the probability that each node belongs to partitions $P_1, P_2, ..., P_k$.\n",
        "This module is a fully connected layer followed by softmax, trained to minimize GAP loss function"
      ]
    },
    {
      "cell_type": "markdown",
      "metadata": {
        "id": "4RJWOq1lcly6"
      },
      "source": [
        "## GAP loss function"
      ]
    },
    {
      "cell_type": "markdown",
      "metadata": {
        "id": "u0GyDp0tct9p"
      },
      "source": [
        "GAP returns $Y\\in \\mathbb R^{n\\times k}$ where $Y_{ij}$ represents the probability that node $v_i$ belongs to partition $P_j$.\n",
        "\n",
        "$$\n",
        "\\mathbb{E}[\\textbf{cut}(P_l, \\overline{P_l})] = \\sum_{\\substack{v_i\\in P_l \\\\ v_j\\in \\mathcal{N}(v_i)}}\\sum_{z=1}^k Y_{iz}(1-Y_{jz})\n",
        "$$\n",
        "\n",
        "$$\n",
        "\\mathbb{E}[\\textbf{cut}(P_l, \\overline{P_l})] = \\sum_{\\text{reduce-sum}} Y_{:,l}(1-Y_{:,l})^T\\odot A\n",
        "$$\n",
        "\n",
        "![expectation](https://raw.githubusercontent.com/crispu93/GAP_images/main/expectation.png)\n",
        "\n",
        "\n"
      ]
    },
    {
      "cell_type": "markdown",
      "metadata": {
        "id": "3OdM766BuY4O"
      },
      "source": [
        "On the other hand, we have $\\textbf{vol}(P_i) = \\sum_{v_j\\in P_i}deg(v_j)$.\n",
        "\n",
        "Let $\\hat{D}$ be a column vector of size $n$ where $\\hat{D}_i$ es the degree of the node $v_i\\in V$. Given $Y$ we can calculate $\\mathbb{E}[\\textbf{Vol}(P_l)]$ as follows, where $\\Gamma$ is a vector in $\\mathbb R^k$.\n",
        "\n",
        "$$\\Gamma = Y^T\\hat{D}, \\ \\ \\text{where} \\ \\ \\ \\mathbb{E}[\\textbf{Vol}(P_l)]=\\Gamma_l$$"
      ]
    },
    {
      "cell_type": "markdown",
      "metadata": {
        "id": "atwhWIU6hfAc"
      },
      "source": [
        "From the two values calculated for $\\mathbb{E}[\\textbf{cut}(P_l, \\overline{P_l})]$ and $\\mathbb{E}[\\textbf{Vol}(P_l)]$ we can compute the expected value of the normalized cut as follows\n",
        "\n",
        "\n",
        "$$\n",
        "  \\mathcal{L} = \\mathbb{E}[\\textbf{Ncut}(P_1,P_2,...,P_k)] = \\sum_{\\text{reduce-sum}} (Y\\oslash \\Gamma)(1-Y)^T\\odot A\n",
        "$$\n"
      ]
    },
    {
      "cell_type": "markdown",
      "metadata": {
        "id": "bEMNY58EgZp6"
      },
      "source": [
        "## Convolutional Networks and message passing"
      ]
    },
    {
      "cell_type": "markdown",
      "metadata": {
        "id": "xBtYCFistEzF"
      },
      "source": [
        "A basic GCN layer is defined with the following propagation rule\n",
        "$$\n",
        "H^{(k)} = \\sigma\\left( \\tilde{A}H^{(k-1)} W^{(k)}\\right)\n",
        "$$\n",
        "Where $\\tilde{A} = (D+I)^{-\\frac{1}{2}}(A+I)(D+I)^{-\\frac{1}{2}}$ is a normalized variant of the adjacency matrix with self loops and $W^{(k)}$ is a learnable parameter matrix. \n"
      ]
    },
    {
      "cell_type": "markdown",
      "metadata": {
        "id": "jKPlaCozeyZP"
      },
      "source": [
        "### Basics of Graph Convolutional Networks (GCN)"
      ]
    },
    {
      "cell_type": "code",
      "metadata": {
        "colab": {
          "base_uri": "https://localhost:8080/",
          "height": 319
        },
        "id": "FdNmKHCztF6r",
        "outputId": "1eaef6e4-e7a1-45b5-802e-01dec69eb0f8"
      },
      "source": [
        "import numpy as np\n",
        "import matplotlib.pyplot as plt\n",
        "import networkx as nx\n",
        "\n",
        "# Initalize a graph with n nodes with node features the name of the corresponding node\n",
        "G = nx.Graph(name = 'G')\n",
        "n = 6\n",
        "for i in range(n):\n",
        "  G.add_node(i, name = i)\n",
        "\n",
        "edges = [(0, 1), (0, 2), (0, 3), (1, 2), (3, 4), (3, 5), (4, 5)]\n",
        "G.add_edges_from(edges)\n",
        "\n",
        "nx.draw(G, with_labels = True, node_color = 'yellow', font_weight = 'bold')\n",
        "plt.show()"
      ],
      "execution_count": null,
      "outputs": [
        {
          "output_type": "display_data",
          "data": {
            "image/png": "[encoded data removed]",
            "text/plain": [
              "<Figure size 432x288 with 1 Axes>"
            ]
          },
          "metadata": {
            "tags": []
          }
        }
      ]
    },
    {
      "cell_type": "markdown",
      "metadata": {
        "id": "RXaFy6XqEvay"
      },
      "source": [
        "### Different convolutional filters"
      ]
    },
    {
      "cell_type": "code",
      "metadata": {
        "colab": {
          "base_uri": "https://localhost:8080/"
        },
        "id": "WpXLfH5018Uh",
        "outputId": "dda4da6d-c66e-422b-b45a-1ee36c264344"
      },
      "source": [
        "# Compute the adjacency matrix and node features matrix\n",
        "A = np.array(nx.attr_matrix(G, node_attr='name')[0])\n",
        "X = np.array(nx.attr_matrix(G, node_attr='name')[1])\n",
        "X = np.expand_dims(X, axis = 1)\n",
        "AX = np.dot(A,X)\n",
        "\n",
        "print('\\n Adjacency Matrix (A):\\n', A)\n",
        "print('\\n Node Features Matrix (X):\\n', X)\n",
        "print('\\n AX:\\n', AX)\n",
        "\n"
      ],
      "execution_count": null,
      "outputs": [
        {
          "output_type": "stream",
          "text": [
            "\n",
            " Adjacency Matrix (A):\n",
            " [[0. 1. 1. 1. 0. 0.]\n",
            " [1. 0. 1. 0. 0. 0.]\n",
            " [1. 1. 0. 0. 0. 0.]\n",
            " [1. 0. 0. 0. 1. 1.]\n",
            " [0. 0. 0. 1. 0. 1.]\n",
            " [0. 0. 0. 1. 1. 0.]]\n",
            "\n",
            " Node Features Matrix (X):\n",
            " [[0]\n",
            " [1]\n",
            " [2]\n",
            " [3]\n",
            " [4]\n",
            " [5]]\n",
            "\n",
            " AX:\n",
            " [[6.]\n",
            " [2.]\n",
            " [1.]\n",
            " [9.]\n",
            " [8.]\n",
            " [7.]]\n"
          ],
          "name": "stdout"
        }
      ]
    },
    {
      "cell_type": "code",
      "metadata": {
        "colab": {
          "base_uri": "https://localhost:8080/"
        },
        "id": "aPTXQab03WU4",
        "outputId": "87b33978-8cd6-483e-86dc-25f75c60fd4e"
      },
      "source": [
        "G_self_loops = G.copy()\n",
        "self_loops_list = []\n",
        "for i in range(n):\n",
        "  self_loops_list.append((i,i))\n",
        "\n",
        "G_self_loops.add_edges_from(self_loops_list)\n",
        "A_self_loops = np.array(nx.attr_matrix(G_self_loops, node_attr='name')[0])\n",
        "\n",
        "#Compute the degree matrix of added self-loops G\n",
        "D = G_self_loops.degree();\n",
        "\n",
        "AX = np.dot(A_self_loops, X)\n",
        "print('Adjacency Matrix of added self-loops G :\\n', A_self_loops)\n",
        "print('\\n AX:\\n', AX)"
      ],
      "execution_count": null,
      "outputs": [
        {
          "output_type": "stream",
          "text": [
            "Adjacency Matrix of added self-loops G :\n",
            " [[1. 1. 1. 1. 0. 0.]\n",
            " [1. 1. 1. 0. 0. 0.]\n",
            " [1. 1. 1. 0. 0. 0.]\n",
            " [1. 0. 0. 1. 1. 1.]\n",
            " [0. 0. 0. 1. 1. 1.]\n",
            " [0. 0. 0. 1. 1. 1.]]\n",
            "\n",
            " AX:\n",
            " [[ 6.]\n",
            " [ 3.]\n",
            " [ 3.]\n",
            " [12.]\n",
            " [12.]\n",
            " [12.]]\n"
          ],
          "name": "stdout"
        }
      ]
    },
    {
      "cell_type": "markdown",
      "metadata": {
        "id": "ucblK8EfE2Ch"
      },
      "source": [
        "### Normalizing term\n",
        "$$\\tilde{A} = A$$\n",
        "Well connected nodes will have values associated with them that are larger\n",
        "The deeper the network, the larger the values will be\n",
        "\n",
        "$$\\tilde{A} = D^{-1}A$$\n",
        "You don't consider the connectivity of your neighbours. \n",
        "\n",
        "$$\\tilde{A} = D^{-1}AD^{-1}$$\n",
        "The deeper the network the smaller the values will become until reaching 0. The largest eigenvalue will be less than 1\n",
        "\n",
        "$$\\tilde{A} = D^{-\\frac{1}{2}}AD^{-\\frac{1}{2}}$$\n",
        "It takes into account both your number of neighbours and their own number of neighbours.\n",
        "\n",
        "All values will be in a similar range and independent of the number of layers\n",
        "\n",
        "Similar to $D^{-1}A$ meaning they have the same eigenvalues (the largest being 1)"
      ]
    },
    {
      "cell_type": "code",
      "metadata": {
        "colab": {
          "base_uri": "https://localhost:8080/"
        },
        "id": "EBrEuPJqRfHt",
        "outputId": "a84f5fcb-416d-4633-d1ee-ad8148a94559"
      },
      "source": [
        "from scipy.linalg import fractional_matrix_power\n",
        "\n",
        "# Allow reproducibility\n",
        "#np.random.seed(77777)\n",
        "\n",
        "# Initialize weights\n",
        "n_h = 4   # Number of neurons in the hidden layer\n",
        "n_o = 2   # Number of neurons in the output layer\n",
        "W0 = np.random.randn(X.shape[1], n_h)*0.1\n",
        "W1 = np.random.randn(n_h,n_o)*0.1\n",
        "\n",
        "# Use ReLu as activation function\n",
        "def relu(x):\n",
        "  return np.maximum(0,x)\n",
        "\n",
        "# Define GCN layer\n",
        "def gcn(A, H, W):\n",
        "  I = np.identity(A.shape[0])\n",
        "  A_hat = A + I   # Add self-loops\n",
        "  D = np.diag(np.sum(A_hat, axis=0))  # Degre matrix with self loops\n",
        "  D_half_norm = fractional_matrix_power(D, -0.5)\n",
        "  aux = D_half_norm.dot(A_hat).dot(D_half_norm).dot(H).dot(W)\n",
        "  return relu(aux)\n",
        "\n",
        "# Do forward propagation\n",
        "H1 = gcn(A,X,W0)\n",
        "H2 = gcn(A,H1,W1)\n",
        "print('Features Representation from GCN output:\\n', H2)"
      ],
      "execution_count": null,
      "outputs": [
        {
          "output_type": "stream",
          "text": [
            "Features Representation from GCN output:\n",
            " [[0.0124102  0.        ]\n",
            " [0.00773377 0.        ]\n",
            " [0.00773377 0.        ]\n",
            " [0.02370333 0.        ]\n",
            " [0.0241864  0.        ]\n",
            " [0.0241864  0.        ]]\n"
          ],
          "name": "stdout"
        }
      ]
    },
    {
      "cell_type": "code",
      "metadata": {
        "colab": {
          "base_uri": "https://localhost:8080/",
          "height": 295
        },
        "id": "V7j48wCUCdb8",
        "outputId": "4cff447b-c870-4d4d-f25e-83e4d095e3c8"
      },
      "source": [
        "def plot_features(H2):\n",
        "    #Plot the features representation\n",
        "    x = H2[:,0]\n",
        "    y = H2[:,1]\n",
        "\n",
        "    size = 1000\n",
        "\n",
        "    plt.scatter(x,y,size)\n",
        "    plt.xlim([np.min(x)*0.9, np.max(x)*1.1])\n",
        "    plt.ylim([-1, 1])\n",
        "    plt.xlabel('Feature Representation Dimension 0')\n",
        "    plt.ylabel('Feature Representation Dimension 1')\n",
        "    plt.title('Feature Representation')\n",
        "\n",
        "    for i,row in enumerate(H2):\n",
        "        str = \"{}\".format(i)\n",
        "        plt.annotate(str, (row[0],row[1]),fontsize=18, fontweight='bold')\n",
        "\n",
        "    plt.show()\n",
        "\n",
        "\n",
        "plot_features(H2)"
      ],
      "execution_count": null,
      "outputs": [
        {
          "output_type": "display_data",
          "data": {
            "image/png": "[encoded data removed]",
            "text/plain": [
              "<Figure size 432x288 with 1 Axes>"
            ]
          },
          "metadata": {
            "tags": [],
            "needs_background": "light"
          }
        }
      ]
    },
    {
      "cell_type": "markdown",
      "metadata": {
        "id": "mDJWCsskIbkN"
      },
      "source": [
        "## Over-smoothing as convolutional filter\n",
        "\n",
        "The intuitive idea of over-smoothing is that after too many rounds of message passing, the embeddings for all nodes begin to look identical and are relative uninformative. \n",
        "\n",
        "The key instuition is that stacking multiple rounds of message passing in a basic GNN is analogous to applying a low-pass convolutional filter, wich produces a smoothed version of the input signal of the graph.\n",
        "\n",
        "Considering the simplification of a basic GNN with the following update rule:\n",
        "$$\n",
        "H^{(k)} = A_{sym}H^{(k-1)} W^{(k)}\n",
        "$$\n",
        "\n",
        "For mathematical simplicity and numerical stability we consider $A_{sym}$ which is defined as $A_{sym} = D^{-\\frac{1}{2}}AD^{-\\frac{1}{2}}$.\n",
        "\n",
        "After $K$ rounds, we eill end up with a representation that depends on the $K$th power of the adjacency matrix:\n",
        "$$\n",
        "H^{(K)} = A_{sym}^KX W\n",
        "$$\n",
        "where $W$ is some linear operator and $X$ is the matrix of input node features.\n",
        "\n",
        "We can use a large enough value of $K$ such that we have reached a fixed point of the following recurrence:\n",
        "$$\n",
        "A_{sym}H^{(K)} = H^{(K)}\n",
        "$$\n",
        "\n",
        "since the dominant eigenvalue of $A_{sym}$ is equal to one.\n",
        "\n",
        "It will happen that at this point, all node features will have converged to be completely defined by the dominant eigenvector of $A_{sym}$, and more generally higher powers of $A_{sym}$ will emphasize the largest eigenvalues of this matrix.\n",
        "\n",
        "We know that the largest eigenvalues of $A_{sym}$ correspond to the smallest eigenvalues of its counterpart, the symmetric normalized laplacian $L_{sym} = I - A_{sym}$.\n",
        "\n",
        "Together, these facts imply that multiplying a signal by high powers of $A_{sym}$ corresponds to a convolutional filter based on the lowest eigenvalues (or frequencies) of $L_{sym}$, i.e., it produces a low pass filter.\n",
        "\n",
        "Thus, stacking many rounds of message passing leads to convolutional filters that are low-pass, and in the worst case, these filters simply converge all the node representations to constant values within conected components of the graph (the zero-frequency of the Laplacian)\n"
      ]
    },
    {
      "cell_type": "markdown",
      "metadata": {
        "id": "fk2C9H8Th44r"
      },
      "source": [
        "# References\n",
        "[1] Nazi, A., Hang, W. et al (2019) A Deep Learning Framework for Graph Partitioning\n",
        "\n",
        "[2] Hamilton, William L. Graph Representation Learning Synthesis Lectures on Artificial Intelligence and Machine Learning\n"
      ]
    }
  ]
}